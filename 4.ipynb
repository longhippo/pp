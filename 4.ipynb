{
  "nbformat": 4,
  "nbformat_minor": 0,
  "metadata": {
    "colab": {
      "provenance": []
    },
    "kernelspec": {
      "name": "python3",
      "display_name": "Python 3"
    },
    "language_info": {
      "name": "python"
    }
  },
  "cells": [
    {
      "cell_type": "code",
      "execution_count": 1,
      "metadata": {
        "id": "1yu1B0pw-n3w"
      },
      "outputs": [],
      "source": [
        "import numpy as np\n",
        "import tensorflow as tf\n",
        "from tensorflow.keras.datasets import mnist\n",
        "from tensorflow.keras.models import Sequential\n",
        "from tensorflow.keras.layers import Dense"
      ]
    },
    {
      "cell_type": "code",
      "source": [
        "(X_train, _), (X_test, _) = mnist.load_data()"
      ],
      "metadata": {
        "colab": {
          "base_uri": "https://localhost:8080/"
        },
        "id": "YGsDPSiT-rg1",
        "outputId": "22208f21-0d29-4561-fa0f-891d3159a697"
      },
      "execution_count": 2,
      "outputs": [
        {
          "output_type": "stream",
          "name": "stdout",
          "text": [
            "Downloading data from https://storage.googleapis.com/tensorflow/tf-keras-datasets/mnist.npz\n",
            "11490434/11490434 [==============================] - 0s 0us/step\n"
          ]
        }
      ]
    },
    {
      "cell_type": "code",
      "source": [
        "X_train = X_train.astype('float32') / 255.0\n",
        "X_test = X_test.astype('float32') / 255.0\n"
      ],
      "metadata": {
        "id": "YHZ0ymog_knX"
      },
      "execution_count": 3,
      "outputs": []
    },
    {
      "cell_type": "code",
      "source": [
        "X_train = X_train.reshape((len(X_train), np.prod(X_train.shape[1:])))\n",
        "X_test = X_test.reshape((len(X_test), np.prod(X_test.shape[1:])))"
      ],
      "metadata": {
        "id": "ComTynVb_mnH"
      },
      "execution_count": 4,
      "outputs": []
    },
    {
      "cell_type": "code",
      "source": [
        "def create_autoencoder_model():\n",
        "    model = Sequential([\n",
        "        Dense(128, activation='relu', input_shape=(784,)),\n",
        "        Dense(64, activation='relu'),\n",
        "        Dense(32, activation='relu'),\n",
        "        Dense(64, activation='relu'),\n",
        "        Dense(128, activation='relu'),\n",
        "        Dense(784, activation='sigmoid')\n",
        "    ])\n",
        "    return model"
      ],
      "metadata": {
        "id": "25kMygbC_pCT"
      },
      "execution_count": 5,
      "outputs": []
    },
    {
      "cell_type": "code",
      "source": [
        "def train_autoencoder_model():\n",
        "    model = create_autoencoder_model()\n",
        "    model.compile(optimizer='adam', loss='binary_crossentropy')\n",
        "    model.fit(X_train, X_train, epochs=10, batch_size=256, shuffle=True, validation_data=(X_test, X_test))\n",
        "    return model"
      ],
      "metadata": {
        "id": "RMNvR9Cx_rXs"
      },
      "execution_count": 6,
      "outputs": []
    },
    {
      "cell_type": "code",
      "source": [
        "autoencoder_model = train_autoencoder_model()"
      ],
      "metadata": {
        "colab": {
          "base_uri": "https://localhost:8080/"
        },
        "id": "TFDOIolZ_tiO",
        "outputId": "57987d65-5a1a-4dc7-b408-580518a3a5ba"
      },
      "execution_count": 7,
      "outputs": [
        {
          "output_type": "stream",
          "name": "stdout",
          "text": [
            "Epoch 1/10\n",
            "235/235 [==============================] - 5s 16ms/step - loss: 0.2499 - val_loss: 0.1713\n",
            "Epoch 2/10\n",
            "235/235 [==============================] - 4s 16ms/step - loss: 0.1560 - val_loss: 0.1404\n",
            "Epoch 3/10\n",
            "235/235 [==============================] - 5s 22ms/step - loss: 0.1354 - val_loss: 0.1284\n",
            "Epoch 4/10\n",
            "235/235 [==============================] - 4s 16ms/step - loss: 0.1264 - val_loss: 0.1214\n",
            "Epoch 5/10\n",
            "235/235 [==============================] - 4s 15ms/step - loss: 0.1197 - val_loss: 0.1151\n",
            "Epoch 6/10\n",
            "235/235 [==============================] - 5s 22ms/step - loss: 0.1142 - val_loss: 0.1105\n",
            "Epoch 7/10\n",
            "235/235 [==============================] - 4s 15ms/step - loss: 0.1103 - val_loss: 0.1073\n",
            "Epoch 8/10\n",
            "235/235 [==============================] - 4s 15ms/step - loss: 0.1075 - val_loss: 0.1051\n",
            "Epoch 9/10\n",
            "235/235 [==============================] - 4s 17ms/step - loss: 0.1053 - val_loss: 0.1035\n",
            "Epoch 10/10\n",
            "235/235 [==============================] - 4s 19ms/step - loss: 0.1035 - val_loss: 0.1017\n"
          ]
        }
      ]
    },
    {
      "cell_type": "code",
      "source": [
        "reconstructed_images = autoencoder_model.predict(X_test)"
      ],
      "metadata": {
        "colab": {
          "base_uri": "https://localhost:8080/"
        },
        "id": "pmplRIZ2_1aN",
        "outputId": "47fae61b-31ed-4fcb-bc6f-761a12b5208b"
      },
      "execution_count": 8,
      "outputs": [
        {
          "output_type": "stream",
          "name": "stdout",
          "text": [
            "313/313 [==============================] - 1s 2ms/step\n"
          ]
        }
      ]
    },
    {
      "cell_type": "code",
      "source": [
        "import matplotlib.pyplot as plt"
      ],
      "metadata": {
        "id": "f6zEm_-w_4TX"
      },
      "execution_count": 9,
      "outputs": []
    },
    {
      "cell_type": "code",
      "source": [
        "n = 10  # Number of images to display\n",
        "plt.figure(figsize=(20, 4))\n",
        "for i in range(n):\n",
        "    # Display original images\n",
        "    ax = plt.subplot(2, n, i + 1)\n",
        "    plt.imshow(X_test[i].reshape(28, 28))\n",
        "    plt.gray()\n",
        "    ax.get_xaxis().set_visible(False)\n",
        "    ax.get_yaxis().set_visible(False)\n",
        "\n",
        "\n",
        "    ax = plt.subplot(2, n, i + 1 + n)\n",
        "    plt.imshow(reconstructed_images[i].reshape(28, 28))\n",
        "    plt.gray()\n",
        "    ax.get_xaxis().set_visible(False)\n",
        "    ax.get_yaxis().set_visible(False)\n",
        "plt.show()"
      ],
      "metadata": {
        "colab": {
          "base_uri": "https://localhost:8080/",
          "height": 244
        },
        "id": "s-TX2DQZ_9_X",
        "outputId": "f433b7db-7bf4-492f-da5e-ce8f734ac336"
      },
      "execution_count": 10,
      "outputs": [
        {
          "output_type": "display_data",
          "data": {
            "text/plain": [
              "<Figure size 2000x400 with 20 Axes>"
            ],
            "image/png": "[encoded data removed]"
          },
          "metadata": {}
        }
      ]
    }
  ]
}