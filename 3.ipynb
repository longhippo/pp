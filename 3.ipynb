{
  "nbformat": 4,
  "nbformat_minor": 0,
  "metadata": {
    "colab": {
      "provenance": []
    },
    "kernelspec": {
      "name": "python3",
      "display_name": "Python 3"
    },
    "language_info": {
      "name": "python"
    }
  },
  "cells": [
    {
      "cell_type": "code",
      "execution_count": 1,
      "metadata": {
        "id": "7dh2Og7Z86pO"
      },
      "outputs": [],
      "source": [
        "import numpy as np\n",
        "import tensorflow as tf\n",
        "from tensorflow.keras.datasets import cifar10\n",
        "from tensorflow.keras.models import Sequential\n",
        "from tensorflow.keras.layers import Conv2D, MaxPooling2D, Flatten, Dense\n",
        "from tensorflow.keras.utils import to_categorical\n",
        "from sklearn.metrics import accuracy_score"
      ]
    },
    {
      "cell_type": "code",
      "source": [
        "(X_train, y_train), (X_test, y_test) = cifar10.load_data()"
      ],
      "metadata": {
        "colab": {
          "base_uri": "https://localhost:8080/"
        },
        "id": "FNfG7eFz8_IQ",
        "outputId": "35fe7124-7ff3-40c1-9d70-61e3e25cb9b9"
      },
      "execution_count": 2,
      "outputs": [
        {
          "output_type": "stream",
          "name": "stdout",
          "text": [
            "Downloading data from https://www.cs.toronto.edu/~kriz/cifar-10-python.tar.gz\n",
            "170498071/170498071 [==============================] - 3s 0us/step\n"
          ]
        }
      ]
    },
    {
      "cell_type": "code",
      "source": [
        "X_train = X_train.astype('float32') / 255.0\n",
        "X_test = X_test.astype('float32') / 255.0"
      ],
      "metadata": {
        "id": "siBUQfpN9BvP"
      },
      "execution_count": 3,
      "outputs": []
    },
    {
      "cell_type": "code",
      "source": [
        "y_train = to_categorical(y_train, num_classes=10)\n",
        "y_test = to_categorical(y_test, num_classes=10)"
      ],
      "metadata": {
        "id": "laP5l2fB9GSj"
      },
      "execution_count": 4,
      "outputs": []
    },
    {
      "cell_type": "code",
      "source": [
        "def create_cnn_model():\n",
        "    model = Sequential([\n",
        "        Conv2D(32, (3, 3), activation='relu', padding='same', input_shape=(32, 32, 3)),\n",
        "        MaxPooling2D((2, 2)),\n",
        "        Conv2D(64, (3, 3), activation='relu', padding='same'),\n",
        "        MaxPooling2D((2, 2)),\n",
        "        Conv2D(64, (3, 3), activation='relu', padding='same'),\n",
        "        Flatten(),\n",
        "        Dense(64, activation='relu'),\n",
        "        Dense(10, activation='softmax')\n",
        "    ])\n",
        "    return model"
      ],
      "metadata": {
        "id": "gnWZdvBh9I3P"
      },
      "execution_count": 5,
      "outputs": []
    },
    {
      "cell_type": "code",
      "source": [
        "def train_and_evaluate_cnn_model():\n",
        "    model = create_cnn_model()\n",
        "    model.compile(optimizer='adam', loss='categorical_crossentropy', metrics=['accuracy'])\n",
        "    model.fit(X_train, y_train, epochs=10, batch_size=64, verbose=1, validation_split=0.1)\n",
        "    y_pred = np.argmax(model.predict(X_test), axis=-1)\n",
        "    accuracy = accuracy_score(np.argmax(y_test, axis=-1), y_pred)\n",
        "    return accuracy"
      ],
      "metadata": {
        "id": "cgVM_by-9Lxf"
      },
      "execution_count": 6,
      "outputs": []
    },
    {
      "cell_type": "code",
      "source": [
        "accuracy_cnn = train_and_evaluate_cnn_model()\n",
        "\n",
        "print(f'Accuracy of the CNN model on CIFAR-10 test set: {accuracy_cnn:.4f}')"
      ],
      "metadata": {
        "colab": {
          "base_uri": "https://localhost:8080/"
        },
        "id": "1KitHMPc9POO",
        "outputId": "b8688cd1-aa6b-4dd1-a32a-dc7068eddce9"
      },
      "execution_count": 7,
      "outputs": [
        {
          "output_type": "stream",
          "name": "stdout",
          "text": [
            "Epoch 1/10\n",
            "704/704 [==============================] - 98s 137ms/step - loss: 1.5085 - accuracy: 0.4539 - val_loss: 1.2136 - val_accuracy: 0.5632\n",
            "Epoch 2/10\n",
            "704/704 [==============================] - 90s 127ms/step - loss: 1.0953 - accuracy: 0.6114 - val_loss: 1.0002 - val_accuracy: 0.6428\n",
            "Epoch 3/10\n",
            "704/704 [==============================] - 90s 128ms/step - loss: 0.9368 - accuracy: 0.6704 - val_loss: 0.9039 - val_accuracy: 0.6892\n",
            "Epoch 4/10\n",
            "704/704 [==============================] - 89s 127ms/step - loss: 0.8216 - accuracy: 0.7110 - val_loss: 0.8732 - val_accuracy: 0.7000\n",
            "Epoch 5/10\n",
            "704/704 [==============================] - 93s 132ms/step - loss: 0.7392 - accuracy: 0.7422 - val_loss: 0.8276 - val_accuracy: 0.7142\n",
            "Epoch 6/10\n",
            "704/704 [==============================] - 91s 129ms/step - loss: 0.6676 - accuracy: 0.7646 - val_loss: 0.8283 - val_accuracy: 0.7160\n",
            "Epoch 7/10\n",
            "704/704 [==============================] - 89s 126ms/step - loss: 0.6032 - accuracy: 0.7889 - val_loss: 0.8126 - val_accuracy: 0.7258\n",
            "Epoch 8/10\n",
            "704/704 [==============================] - 91s 129ms/step - loss: 0.5444 - accuracy: 0.8095 - val_loss: 0.7859 - val_accuracy: 0.7412\n",
            "Epoch 9/10\n",
            "704/704 [==============================] - 88s 125ms/step - loss: 0.4914 - accuracy: 0.8264 - val_loss: 0.8124 - val_accuracy: 0.7420\n",
            "Epoch 10/10\n",
            "704/704 [==============================] - 88s 126ms/step - loss: 0.4344 - accuracy: 0.8454 - val_loss: 0.8644 - val_accuracy: 0.7346\n",
            "313/313 [==============================] - 6s 18ms/step\n",
            "Accuracy of the CNN model on CIFAR-10 test set: 0.7047\n"
          ]
        }
      ]
    }
  ]
}